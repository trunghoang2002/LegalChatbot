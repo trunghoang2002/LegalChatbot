{
 "cells": [
  {
   "cell_type": "code",
   "execution_count": 2,
   "metadata": {},
   "outputs": [
    {
     "name": "stdout",
     "output_type": "stream",
     "text": [
      "Python 3.11.11\n"
     ]
    }
   ],
   "source": [
    "!python -V"
   ]
  },
  {
   "cell_type": "markdown",
   "metadata": {},
   "source": [
    "# Convert docx to txt"
   ]
  },
  {
   "cell_type": "code",
   "execution_count": null,
   "metadata": {},
   "outputs": [],
   "source": [
    "import os\n",
    "from preprocess import convert_doc_to_txt\n",
    "\n",
    "directories = ['HienPhap', 'LuatLaoDong', 'LuatDanSu', 'LuatHinhSu']\n",
    "processed_files = []\n",
    "failed_files = []\n",
    "\n",
    "for directory in directories:\n",
    "    for root, dirs, files in os.walk(directory):\n",
    "        for file in files:\n",
    "            if file.endswith(('.doc', '.docx')) and not file.startswith('~$'):\n",
    "                file_path = os.path.join(root, file)\n",
    "                if file_path.split(\".\")[0] in processed_files:\n",
    "                    continue\n",
    "                try:\n",
    "                    # Process the file\n",
    "                    print(f\"Processing {file_path}...\")\n",
    "                    convert_doc_to_txt(file_path)\n",
    "                    print(f\"Successfully processed {file_path}.\")\n",
    "                    processed_files.append(file_path.split(\".\")[0])\n",
    "                except Exception as e:\n",
    "                    print(f\"Error processing {file_path}: {e}\")\n",
    "                    failed_files.append(file_path.split(\".\")[0])\n",
    "\n",
    "for file in failed_files:\n",
    "    print(f\"Failed: {file}\")"
   ]
  },
  {
   "cell_type": "markdown",
   "metadata": {},
   "source": [
    "# Preprocess"
   ]
  },
  {
   "cell_type": "code",
   "execution_count": 30,
   "metadata": {},
   "outputs": [
    {
     "name": "stderr",
     "output_type": "stream",
     "text": [
      "2025-04-13 14:50:22,131 - INFO - Đang xử lý thư mục HienPhap...\n",
      "2025-04-13 14:50:22,145 - INFO - Đang xử lý file: HienPhap\\hien-phap-2013.doc\n",
      "2025-04-13 14:50:22,225 - INFO - Đã xử lý thành công file: HienPhap\\hien-phap-2013.doc\n",
      "2025-04-13 14:50:22,225 - INFO - Tổng số file đã xử lý của thư mục HienPhap: 1\n",
      "2025-04-13 14:50:22,225 - INFO - Tổng số file thất bại của thư mục HienPhap: 0\n",
      "2025-04-13 14:50:22,225 - INFO - Đang xử lý thư mục LuatLaoDong...\n",
      "2025-04-13 14:50:22,226 - INFO - Đang xử lý file: LuatLaoDong\\bo-luat-lao-dong-2019.doc\n",
      "2025-04-13 14:50:22,368 - INFO - Đã xử lý thành công file: LuatLaoDong\\bo-luat-lao-dong-2019.doc\n",
      "2025-04-13 14:50:22,368 - INFO - Đang xử lý file: LuatLaoDong\\luat-an-toan-ve-sinh-lao-dong-2015.doc\n",
      "2025-04-13 14:50:22,431 - INFO - Đã xử lý thành công file: LuatLaoDong\\luat-an-toan-ve-sinh-lao-dong-2015.doc\n",
      "2025-04-13 14:50:22,432 - INFO - Đang xử lý file: LuatLaoDong\\luat-cong-doan-2012.doc\n",
      "2025-04-13 14:50:22,453 - INFO - Đã xử lý thành công file: LuatLaoDong\\luat-cong-doan-2012.doc\n",
      "2025-04-13 14:50:22,454 - WARNING - Không tìm thấy file metadata cho LuatLaoDong\\luat-doanh-nghiep-2020.doc\n",
      "2025-04-13 14:50:22,454 - WARNING - Không tìm thấy file metadata cho LuatLaoDong\\luat-doanh-nghiep-2020.docx\n",
      "2025-04-13 14:50:22,455 - INFO - Đang xử lý file: LuatLaoDong\\luat-viec-lam-2013.doc\n",
      "2025-04-13 14:50:22,496 - INFO - Đã xử lý thành công file: LuatLaoDong\\luat-viec-lam-2013.doc\n",
      "2025-04-13 14:50:22,496 - WARNING - Không tìm thấy file metadata cho LuatLaoDong\\van-ban-hop-nhat-19-vbhn-vpqh-nam-2019-hop-nhat-luat-bao-hiem-xa-hoi-do-van-phong-quoc-hoi-ban-hanh.doc\n",
      "2025-04-13 14:50:22,496 - WARNING - Không tìm thấy file metadata cho LuatLaoDong\\van-ban-hop-nhat-19-vbhn-vpqh-nam-2019-hop-nhat-luat-bao-hiem-xa-hoi-do-van-phong-quoc-hoi-ban-hanh.docx\n",
      "2025-04-13 14:50:22,496 - INFO - Đang xử lý file: LuatLaoDong\\van-ban-hop-nhat-19.doc\n",
      "2025-04-13 14:50:22,560 - INFO - Đã xử lý thành công file: LuatLaoDong\\van-ban-hop-nhat-19.doc\n",
      "2025-04-13 14:50:22,560 - INFO - Tổng số file đã xử lý của thư mục LuatLaoDong: 5\n",
      "2025-04-13 14:50:22,560 - INFO - Tổng số file thất bại của thư mục LuatLaoDong: 4\n",
      "2025-04-13 14:50:22,560 - INFO - Đang xử lý thư mục LuatDanSu...\n",
      "2025-04-13 14:50:22,561 - INFO - Đang xử lý file: LuatDanSu\\bo-luat-dan-su-2015.doc\n",
      "2025-04-13 14:50:22,701 - INFO - Đã xử lý thành công file: LuatDanSu\\bo-luat-dan-su-2015.doc\n",
      "2025-04-13 14:50:22,702 - INFO - Đang xử lý file: LuatDanSu\\luat-bao-ve-quyen-loi-nguoi-tieu-dung-2023.doc\n",
      "2025-04-13 14:50:22,747 - INFO - Đã xử lý thành công file: LuatDanSu\\luat-bao-ve-quyen-loi-nguoi-tieu-dung-2023.doc\n",
      "2025-04-13 14:50:22,748 - WARNING - Không tìm thấy file metadata cho LuatDanSu\\luat-dat-dai-2024.doc\n",
      "2025-04-13 14:50:22,748 - WARNING - Không tìm thấy file metadata cho LuatDanSu\\luat-dat-dai-2024.docx\n",
      "2025-04-13 14:50:22,748 - WARNING - Không tìm thấy file metadata cho LuatDanSu\\luat-hien-lay-ghep-mo-bo-phan-co-the-nguoi-va-hien-lay-xac-2006.doc\n",
      "2025-04-13 14:50:22,748 - WARNING - Không tìm thấy file metadata cho LuatDanSu\\luat-hien-lay-ghep-mo-bo-phan-co-the-nguoi-va-hien-lay-xac-2006.docx\n",
      "2025-04-13 14:50:22,749 - INFO - Đang xử lý file: LuatDanSu\\luat-hon-nhan-va-gia-dinh-2014.doc\n",
      "2025-04-13 14:50:22,826 - INFO - Đã xử lý thành công file: LuatDanSu\\luat-hon-nhan-va-gia-dinh-2014.doc\n",
      "2025-04-13 14:50:22,826 - WARNING - Không tìm thấy file metadata cho LuatDanSu\\luat-nha-o-2023.doc\n",
      "2025-04-13 14:50:22,827 - WARNING - Không tìm thấy file metadata cho LuatDanSu\\luat-nha-o-2023.docx\n",
      "2025-04-13 14:50:22,827 - WARNING - Không tìm thấy file metadata cho LuatDanSu\\luat-pha-san-2014.doc\n",
      "2025-04-13 14:50:22,828 - WARNING - Không tìm thấy file metadata cho LuatDanSu\\luat-pha-san-2014.docx\n",
      "2025-04-13 14:50:22,828 - WARNING - Không tìm thấy file metadata cho LuatDanSu\\luat-trach-nhiem-boi-thuong-cua-nha-nuoc-2017.doc\n",
      "2025-04-13 14:50:22,828 - WARNING - Không tìm thấy file metadata cho LuatDanSu\\luat-trach-nhiem-boi-thuong-cua-nha-nuoc-2017.docx\n",
      "2025-04-13 14:50:22,828 - WARNING - Không tìm thấy file metadata cho LuatDanSu\\nghi-dinh-21-2021-nd-cp-huong-dan-bo-luat-dan-su-ve-bao-dam-thuc-hien-nghia-vu.doc\n",
      "2025-04-13 14:50:22,829 - WARNING - Không tìm thấy file metadata cho LuatDanSu\\nghi-dinh-21-2021-nd-cp-huong-dan-bo-luat-dan-su-ve-bao-dam-thuc-hien-nghia-vu.docx\n",
      "2025-04-13 14:50:22,829 - WARNING - Không tìm thấy file metadata cho LuatDanSu\\nghi-quyet-01-2019-nq-hdtp-huong-dan-ap-dung-mot-so-quy-dinh-cua-phap-luat-ve-lai-lai-suat-phat-vi-pham-do-hoi-dong-tham-phan-toa-an-nhan-dan-toi-cao-ban-hanh.doc\n",
      "2025-04-13 14:50:22,829 - WARNING - Không tìm thấy file metadata cho LuatDanSu\\nghi-quyet-01-2019-nq-hdtp-huong-dan-ap-dung-mot-so-quy-dinh-cua-phap-luat-ve-lai-lai-suat-phat-vi-pham-do-hoi-dong-tham-phan-toa-an-nhan-dan-toi-cao-ban-hanh.docx\n",
      "2025-04-13 14:50:22,830 - WARNING - Không tìm thấy file metadata cho LuatDanSu\\nghi-quyet-02-2022-nq-hdtp-huong-dan-ap-dung-quy-dinh-cua-bo-luat-dan-su-ve-trach-nhiem-boi-thuong-thiet-hai-ngoai-hop-dong-do-hoi-dong-tham-phan-toa-an-nhan-dan-toi-cao-ban-hanh.doc\n",
      "2025-04-13 14:50:22,830 - WARNING - Không tìm thấy file metadata cho LuatDanSu\\nghi-quyet-02-2022-nq-hdtp-huong-dan-ap-dung-quy-dinh-cua-bo-luat-dan-su-ve-trach-nhiem-boi-thuong-thiet-hai-ngoai-hop-dong-do-hoi-dong-tham-phan-toa-an-nhan-dan-toi-cao-ban-hanh.docx\n",
      "2025-04-13 14:50:22,830 - WARNING - Không tìm thấy file metadata cho LuatDanSu\\van-ban-hop-nhat-05-vbhn-vpqh-nam-2014-hop-nhat-luat-quoc-tich-viet-nam-do-van-phong-quoc-hoi-ban-hanh.doc\n",
      "2025-04-13 14:50:22,830 - WARNING - Không tìm thấy file metadata cho LuatDanSu\\van-ban-hop-nhat-05-vbhn-vpqh-nam-2014-hop-nhat-luat-quoc-tich-viet-nam-do-van-phong-quoc-hoi-ban-hanh.docx\n",
      "2025-04-13 14:50:22,830 - WARNING - Không tìm thấy file metadata cho LuatDanSu\\van-ban-hop-nhat-10-vbhn-vpqh-nam-2013-hop-nhat-luat-di-san-van-hoa-do-van-phong-quoc-hoi-ban-hanh.doc\n",
      "2025-04-13 14:50:22,830 - WARNING - Không tìm thấy file metadata cho LuatDanSu\\van-ban-hop-nhat-10-vbhn-vpqh-nam-2013-hop-nhat-luat-di-san-van-hoa-do-van-phong-quoc-hoi-ban-hanh.docx\n",
      "2025-04-13 14:50:22,831 - WARNING - Không tìm thấy file metadata cho LuatDanSu\\van-ban-hop-nhat-11-vbhn-vpqh-nam-2022-hop-nhat-luat-so-huu-tri-tue-do-van-phong-quoc-hoi-ban-hanh.doc\n",
      "2025-04-13 14:50:22,831 - WARNING - Không tìm thấy file metadata cho LuatDanSu\\van-ban-hop-nhat-11-vbhn-vpqh-nam-2022-hop-nhat-luat-so-huu-tri-tue-do-van-phong-quoc-hoi-ban-hanh.docx\n",
      "2025-04-13 14:50:22,831 - WARNING - Không tìm thấy file metadata cho LuatDanSu\\van-ban-hop-nhat-43-vbhn-vpqh-nam-2018-hop-nhat-luat-bao-ve-quyen-loi-nguoi-tieu-dung-do-van-phong-quoc-hoi-ban-hanh.doc\n",
      "2025-04-13 14:50:22,831 - WARNING - Không tìm thấy file metadata cho LuatDanSu\\van-ban-hop-nhat-43-vbhn-vpqh-nam-2018-hop-nhat-luat-bao-ve-quyen-loi-nguoi-tieu-dung-do-van-phong-quoc-hoi-ban-hanh.docx\n",
      "2025-04-13 14:50:22,831 - INFO - Tổng số file đã xử lý của thư mục LuatDanSu: 3\n",
      "2025-04-13 14:50:22,831 - INFO - Tổng số file thất bại của thư mục LuatDanSu: 24\n",
      "2025-04-13 14:50:22,832 - INFO - Đang xử lý thư mục LuatHinhSu...\n",
      "2025-04-13 14:50:22,832 - INFO - Đang xử lý file: LuatHinhSu\\bo-luat-hinh-su-2015.doc\n",
      "2025-04-13 14:50:23,150 - INFO - Đã xử lý thành công file: LuatHinhSu\\bo-luat-hinh-su-2015.doc\n",
      "2025-04-13 14:50:23,150 - WARNING - Không tìm thấy file metadata cho LuatHinhSu\\cong-van-276-tandtc-pc-nam-2016-huong-dan-ap-dung-quy-dinh-co-loi-cho-nguoi-pham-toi-cua-bo-luat-hinh-su-nam-2015-do-toa-an-nhan-dan-toi-cao-ban-hanh.doc\n",
      "2025-04-13 14:50:23,150 - WARNING - Không tìm thấy file metadata cho LuatHinhSu\\cong-van-276-tandtc-pc-nam-2016-huong-dan-ap-dung-quy-dinh-co-loi-cho-nguoi-pham-toi-cua-bo-luat-hinh-su-nam-2015-do-toa-an-nhan-dan-toi-cao-ban-hanh.docx\n",
      "2025-04-13 14:50:23,151 - WARNING - Không tìm thấy file metadata cho LuatHinhSu\\cong-van-276-tandtc-pc.doc\n",
      "2025-04-13 14:50:23,151 - WARNING - Không tìm thấy file metadata cho LuatHinhSu\\cong-van-276-tandtc-pc.docx\n",
      "2025-04-13 14:50:23,151 - WARNING - Không tìm thấy file metadata cho LuatHinhSu\\cong-van-301-tandtc-pc-nam-2016-ap-dung-quy-dinh-co-loi-cho-nguoi-pham-toi-cua-bo-luat-hinh-su-nam-2015-do-toa-an-nhan-dan-toi-cao-ban-hanh.doc\n",
      "2025-04-13 14:50:23,151 - WARNING - Không tìm thấy file metadata cho LuatHinhSu\\cong-van-301-tandtc-pc-nam-2016-ap-dung-quy-dinh-co-loi-cho-nguoi-pham-toi-cua-bo-luat-hinh-su-nam-2015-do-toa-an-nhan-dan-toi-cao-ban-hanh.docx\n",
      "2025-04-13 14:50:23,152 - WARNING - Không tìm thấy file metadata cho LuatHinhSu\\cong-van-301-tandtc-pc.doc\n",
      "2025-04-13 14:50:23,152 - WARNING - Không tìm thấy file metadata cho LuatHinhSu\\cong-van-301-tandtc-pc.docx\n",
      "2025-04-13 14:50:23,152 - WARNING - Không tìm thấy file metadata cho LuatHinhSu\\luat-sua-doi-bo-luat-hinh-su-2017.doc\n",
      "2025-04-13 14:50:23,152 - WARNING - Không tìm thấy file metadata cho LuatHinhSu\\luat-sua-doi-bo-luat-hinh-su-2017.docx\n",
      "2025-04-13 14:50:23,152 - WARNING - Không tìm thấy file metadata cho LuatHinhSu\\nghi-dinh-37-2018-nd-cp-ve-huong-dan-bien-phap-giam-sat-giao-duc-nguoi-duoi-18-tuoi-pham-toi-duoc-mien-trach-nhiem-hinh-su.doc\n",
      "2025-04-13 14:50:23,153 - WARNING - Không tìm thấy file metadata cho LuatHinhSu\\nghi-dinh-37-2018-nd-cp-ve-huong-dan-bien-phap-giam-sat-giao-duc-nguoi-duoi-18-tuoi-pham-toi-duoc-mien-trach-nhiem-hinh-su.docx\n",
      "2025-04-13 14:50:23,153 - WARNING - Không tìm thấy file metadata cho LuatHinhSu\\nghi-dinh-37-2018-nd.doc\n",
      "2025-04-13 14:50:23,153 - WARNING - Không tìm thấy file metadata cho LuatHinhSu\\nghi-dinh-37-2018-nd.docx\n",
      "2025-04-13 14:50:23,153 - WARNING - Không tìm thấy file metadata cho LuatHinhSu\\nghi-quyet-01-2018-nq-hdtp-ve-huong-dan-ap-dung-dieu-66-va-dieu-106-cua-bo-luat-hinh-su-ve-tha-tu-truoc-thoi-han-co-dieu-kien-do-hoi-dong-tham-phan-toa-an-nhan-an-toi-cao-ban-hanh.doc\n",
      "2025-04-13 14:50:23,153 - WARNING - Không tìm thấy file metadata cho LuatHinhSu\\nghi-quyet-01-2018-nq-hdtp-ve-huong-dan-ap-dung-dieu-66-va-dieu-106-cua-bo-luat-hinh-su-ve-tha-tu-truoc-thoi-han-co-dieu-kien-do-hoi-dong-tham-phan-toa-an-nhan-an-toi-cao-ban-hanh.docx\n",
      "2025-04-13 14:50:23,154 - WARNING - Không tìm thấy file metadata cho LuatHinhSu\\nghi-quyet-01-2018-nq.doc\n",
      "2025-04-13 14:50:23,154 - WARNING - Không tìm thấy file metadata cho LuatHinhSu\\nghi-quyet-01-2018-nq.docx\n",
      "2025-04-13 14:50:23,154 - WARNING - Không tìm thấy file metadata cho LuatHinhSu\\nghi-quyet-01-2021-nq-hdtp-huong-dan-ap-dung-dieu-201-cua-bo-luat-hinh-su-va-viec-xet-xu-vu-an-hinh-su-ve-toi-cho-vay-lai-nang-trong-giao-dich-dan-su-do-hoi-dong-tham-phan-toa-an-nhan-dan-to.doc\n",
      "2025-04-13 14:50:23,154 - WARNING - Không tìm thấy file metadata cho LuatHinhSu\\nghi-quyet-01-2021-nq.doc\n",
      "2025-04-13 14:50:23,154 - WARNING - Không tìm thấy file metadata cho LuatHinhSu\\nghi-quyet-01-2021-nq.docx\n",
      "2025-04-13 14:50:23,154 - WARNING - Không tìm thấy file metadata cho LuatHinhSu\\nghi-quyet-01-2022-nq-hdtp-sua-doi-nghi-quyet-02-2018-nq-hdtp-huong-dan-ap-dung-dieu-65-cua-bo-luat-hinh-su-ve-an-treo-do-hoi-dong-tham-phan-toa-an-nhan-dan-toi-cao-ban-hanh.doc\n",
      "2025-04-13 14:50:23,155 - WARNING - Không tìm thấy file metadata cho LuatHinhSu\\nghi-quyet-01-2022-nq-hdtp-sua-doi-nghi-quyet-02-2018-nq-hdtp-huong-dan-ap-dung-dieu-65-cua-bo-luat-hinh-su-ve-an-treo-do-hoi-dong-tham-phan-toa-an-nhan-dan-toi-cao-ban-hanh.docx\n",
      "2025-04-13 14:50:23,156 - WARNING - Không tìm thấy file metadata cho LuatHinhSu\\nghi-quyet-01-2022-nq.doc\n",
      "2025-04-13 14:50:23,157 - WARNING - Không tìm thấy file metadata cho LuatHinhSu\\nghi-quyet-01-2022-nq.docx\n",
      "2025-04-13 14:50:23,157 - WARNING - Không tìm thấy file metadata cho LuatHinhSu\\nghi-quyet-02-2018-nq-hdtp-huong-dan-ap-dung-dieu-65-cua-bo-luat-hinh-su-ve-an-treo-do-hoi-dong-tham-phan-toa-an-nhan-dan-toi-cao-ban-hanh.doc\n",
      "2025-04-13 14:50:23,157 - WARNING - Không tìm thấy file metadata cho LuatHinhSu\\nghi-quyet-02-2018-nq-hdtp-huong-dan-ap-dung-dieu-65-cua-bo-luat-hinh-su-ve-an-treo-do-hoi-dong-tham-phan-toa-an-nhan-dan-toi-cao-ban-hanh.docx\n",
      "2025-04-13 14:50:23,157 - WARNING - Không tìm thấy file metadata cho LuatHinhSu\\nghi-quyet-02-2018-nq.doc\n",
      "2025-04-13 14:50:23,158 - WARNING - Không tìm thấy file metadata cho LuatHinhSu\\nghi-quyet-02-2018-nq.docx\n",
      "2025-04-13 14:50:23,158 - WARNING - Không tìm thấy file metadata cho LuatHinhSu\\nghi-quyet-02-2019-nq-hdtp-huong-dan-ap-dung-dieu-150-ve-toi-mua-ban-nguoi-va-dieu-151-ve-toi-mua-ban-nguoi-duoi-16-tuoi-cua-bo-luat-hinh-su-do-hoi-dong-tham-phan-toa-an-nhan-dan-toi-cao-ban-hanh.doc\n",
      "2025-04-13 14:50:23,158 - WARNING - Không tìm thấy file metadata cho LuatHinhSu\\nghi-quyet-02-2019-nq.doc\n",
      "2025-04-13 14:50:23,159 - WARNING - Không tìm thấy file metadata cho LuatHinhSu\\nghi-quyet-02-2019-nq.docx\n",
      "2025-04-13 14:50:23,159 - WARNING - Không tìm thấy file metadata cho LuatHinhSu\\nghi-quyet-03-2019-nq-hdtp-huong-dan-ap-dung-dieu-324-cua-bo-luat-hinh-su-ve-toi-rua-tien-do-hoi-dong-tham-phan-toa-an-nhan-dan-toi-cao-ban-hanh.doc\n",
      "2025-04-13 14:50:23,160 - WARNING - Không tìm thấy file metadata cho LuatHinhSu\\nghi-quyet-03-2019-nq-hdtp-huong-dan-ap-dung-dieu-324-cua-bo-luat-hinh-su-ve-toi-rua-tien-do-hoi-dong-tham-phan-toa-an-nhan-dan-toi-cao-ban-hanh.docx\n",
      "2025-04-13 14:50:23,160 - WARNING - Không tìm thấy file metadata cho LuatHinhSu\\nghi-quyet-03-2019-nq.doc\n",
      "2025-04-13 14:50:23,161 - WARNING - Không tìm thấy file metadata cho LuatHinhSu\\nghi-quyet-03-2019-nq.docx\n",
      "2025-04-13 14:50:23,162 - WARNING - Không tìm thấy file metadata cho LuatHinhSu\\nghi-quyet-03-2020-nq-hdtp-ve-huong-dan-ap-dung-quy-dinh-cua-bo-luat-hinh-su-trong-xet-xu-toi-pham-tham-nhung-va-toi-pham-khac-ve-chuc-vu-do-hoi-dong-tham-phan-toa-an-nhan-dan-toi-cao-ban-ha.doc\n",
      "2025-04-13 14:50:23,163 - WARNING - Không tìm thấy file metadata cho LuatHinhSu\\nghi-quyet-03-2020-nq.doc\n",
      "2025-04-13 14:50:23,164 - WARNING - Không tìm thấy file metadata cho LuatHinhSu\\nghi-quyet-03-2020-nq.docx\n",
      "2025-04-13 14:50:23,188 - WARNING - Không tìm thấy file metadata cho LuatHinhSu\\nghi-quyet-04-2024-nq-hdtp-huong-dan-ap-dung-quy-dinh-cua-bo-luat-hinh-su-ve-truy-cuu-trach-nhiem-hinh-su-doi-voi-hanh-vi-lien-quan-den-khai-thac-mua-ban-van-chuyen-trai-phep-thuy-san-do-hoi.doc\n",
      "2025-04-13 14:50:23,188 - WARNING - Không tìm thấy file metadata cho LuatHinhSu\\nghi-quyet-04-2024-nq.doc\n",
      "2025-04-13 14:50:23,189 - WARNING - Không tìm thấy file metadata cho LuatHinhSu\\nghi-quyet-04-2024-nq.docx\n",
      "2025-04-13 14:50:23,191 - WARNING - Không tìm thấy file metadata cho LuatHinhSu\\nghi-quyet-05-2018-nq-hdtp-huong-dan-ap-dung-dieu-234-ve-toi-vi-pham-quy-dinh-ve-bao-ve-dong-vat-hoang-da-va-dieu-244-ve-toi-vi-pham-quy-dinh-ve-bao-ve-dong-vat-nguy-cap-quy-hiem-cua-bo-luat.doc\n",
      "2025-04-13 14:50:23,194 - WARNING - Không tìm thấy file metadata cho LuatHinhSu\\nghi-quyet-05-2018-nq.doc\n",
      "2025-04-13 14:50:23,195 - WARNING - Không tìm thấy file metadata cho LuatHinhSu\\nghi-quyet-05-2018-nq.docx\n",
      "2025-04-13 14:50:23,195 - WARNING - Không tìm thấy file metadata cho LuatHinhSu\\nghi-quyet-05-2019-nq-hdtp-huong-dan-ap-dung-dieu-214-ve-toi-gian-lan-bao-hiem-xa-hoi-bao-hiem-that-nghiep-dieu-215-ve-toi-gian-lan-bao-hiem-y-te-va-dieu-216-ve-toi-tron-dong-bao-hiem-xa-hoi-bao-hiem-y-te-bao-hiem-that.doc\n",
      "2025-04-13 14:50:23,195 - WARNING - Không tìm thấy file metadata cho LuatHinhSu\\nghi-quyet-05-2019-nq.doc\n",
      "2025-04-13 14:50:23,197 - WARNING - Không tìm thấy file metadata cho LuatHinhSu\\nghi-quyet-05-2019-nq.docx\n",
      "2025-04-13 14:50:23,243 - WARNING - Không tìm thấy file metadata cho LuatHinhSu\\nghi-quyet-06-2019-nq-hdtp-ve-huong-dan-ap-dung-quy-dinh-tai-cac-dieu-141-142-143-144-145-146-147-cua-bo-luat-hinh-su-va-viec-xet-xu-vu-an-xam-hai-tinh-duc-nguoi-duoi-18-tuoi-do-hoi-dong-tham-phan-toa-an-nhan-dan-toi-c.doc\n",
      "2025-04-13 14:50:23,245 - WARNING - Không tìm thấy file metadata cho LuatHinhSu\\nghi-quyet-06-2019-nq.doc\n",
      "2025-04-13 14:50:23,247 - WARNING - Không tìm thấy file metadata cho LuatHinhSu\\nghi-quyet-06-2019-nq.docx\n",
      "2025-04-13 14:50:23,248 - WARNING - Không tìm thấy file metadata cho LuatHinhSu\\nghi-quyet-109-2015-qh13-ve-thi-hanh-bo-luat-hinh-su-do-quoc-hoi-ban-hanh.doc\n",
      "2025-04-13 14:50:23,250 - WARNING - Không tìm thấy file metadata cho LuatHinhSu\\nghi-quyet-109-2015-qh13-ve-thi-hanh-bo-luat-hinh-su-do-quoc-hoi-ban-hanh.docx\n",
      "2025-04-13 14:50:23,251 - WARNING - Không tìm thấy file metadata cho LuatHinhSu\\nghi-quyet-41-2017-qh14-thi-hanh-bo-luat-hinh-su-100-2015-qh13-da-duoc-sua-doi-bo-sung-mot-so-dieu-theo-luat-12-2017-qh14-va-ve-hieu-luc-thi-hanh-cua-bo-luat-to-tung-hinh-su-101-2015-qh13-lu.doc\n",
      "2025-04-13 14:50:23,252 - WARNING - Không tìm thấy file metadata cho LuatHinhSu\\nghi-quyet-41-2017-qh14.doc\n",
      "2025-04-13 14:50:23,253 - WARNING - Không tìm thấy file metadata cho LuatHinhSu\\nghi-quyet-41-2017-qh14.docx\n",
      "2025-04-13 14:50:23,253 - WARNING - Không tìm thấy file metadata cho LuatHinhSu\\van-ban-hop-nhat-01-vbhn-vpqh-nam-2017-hop-nhat-bo-luat-hinh-su-do-van-phong-quoc-hoi-ban-hanh.doc\n",
      "2025-04-13 14:50:23,254 - WARNING - Không tìm thấy file metadata cho LuatHinhSu\\van-ban-hop-nhat-01-vbhn-vpqh-nam-2017-hop-nhat-bo-luat-hinh-su-do-van-phong-quoc-hoi-ban-hanh.docx\n",
      "2025-04-13 14:50:23,255 - INFO - Đang xử lý file: LuatHinhSu\\van-ban-hop-nhat-01.doc\n",
      "2025-04-13 14:50:23,815 - INFO - Đã xử lý thành công file: LuatHinhSu\\van-ban-hop-nhat-01.doc\n",
      "2025-04-13 14:50:23,816 - INFO - Tổng số file đã xử lý của thư mục LuatHinhSu: 2\n",
      "2025-04-13 14:50:23,817 - INFO - Tổng số file thất bại của thư mục LuatHinhSu: 58\n",
      "2025-04-13 14:50:23,818 - INFO - Tổng số file đã xử lý của tất cả thư mục: 11\n",
      "2025-04-13 14:50:23,819 - INFO - Tổng số file thất bại của tất cả thư mục: 86\n"
     ]
    }
   ],
   "source": [
    "!python preprocess.py"
   ]
  },
  {
   "cell_type": "markdown",
   "metadata": {},
   "source": [
    "# Add law_text and metadata index"
   ]
  },
  {
   "cell_type": "code",
   "execution_count": 37,
   "metadata": {},
   "outputs": [
    {
     "name": "stdout",
     "output_type": "stream",
     "text": [
      "dict_keys(['law_name', 'metadata', 'parts'])\n"
     ]
    }
   ],
   "source": [
    "import json\n",
    "\n",
    "# file_path = 'HienPhap/hien-phap-2013.json'\n",
    "# file_path = 'LuatLaoDong/bo-luat-lao-dong-2019.json'\n",
    "# file_path = 'LuatDanSu/bo-luat-dan-su-2015.json'\n",
    "# file_path = 'LuatHinhSu/bo-luat-hinh-su-2015.json'\n",
    "# file_path = 'LuatLaoDong/van-ban-hop-nhat-19.json'\n",
    "file_path = 'LuatHinhSu/van-ban-hop-nhat-01.json'\n",
    "with open(file_path, 'r') as f:\n",
    "    data = json.load(f)\n",
    "print(data.keys())"
   ]
  },
  {
   "cell_type": "code",
   "execution_count": null,
   "metadata": {},
   "outputs": [
    {
     "name": "stdout",
     "output_type": "stream",
     "text": [
      "length\n",
      "390.68916712030483\n",
      "121\n",
      "1459\n",
      "0 3674\n",
      "num_words\n",
      "86.25748502994011\n",
      "28\n",
      "304\n"
     ]
    }
   ],
   "source": [
    "from preprocess import iterate_law_recursive, get_law_text\n",
    "import numpy as np\n",
    "\n",
    "i = 0\n",
    "length = []\n",
    "num_words = []\n",
    "num_length_greater_than_512 = 0\n",
    "with open('result.txt', 'w') as f:\n",
    "    for item in iterate_law_recursive(data):\n",
    "        law_text = get_law_text(item)\n",
    "        f.write(law_text + '\\n\\n')\n",
    "        length.append(len(law_text))\n",
    "        num_words.append(len(law_text.split()))\n",
    "        i += 1\n",
    "        if num_words[-1] > 512:\n",
    "            num_length_greater_than_512 += 1\n",
    "\n",
    "print(\"length\")\n",
    "print(np.average(length))\n",
    "print(np.min(length))\n",
    "print(np.max(length))\n",
    "print(num_length_greater_than_512, i)\n",
    "print(\"num_words\")\n",
    "print(np.average(num_words))\n",
    "print(np.min(num_words))\n",
    "print(np.max(num_words))"
   ]
  },
  {
   "cell_type": "code",
   "execution_count": null,
   "metadata": {},
   "outputs": [
    {
     "name": "stdout",
     "output_type": "stream",
     "text": [
      "dict_keys(['law_summary', 'metadata', 'qas'])\n"
     ]
    }
   ],
   "source": [
    "# result_path = 'hien-phap-0-306.json'\n",
    "# result_path = 'lao-dong-0-911.json'\n",
    "# result_path = 'dan-su-0-1923.json'\n",
    "# result_path = 'hinh-su-0-3741.json'\n",
    "# result_path = 'van-ban-hop-nhat-19-0-597.json'\n",
    "result_path = 'van-ban-hop-nhat-01-0-3673.json'\n",
    "with open(result_path, 'r') as f:\n",
    "    result = json.load(f)\n",
    "print(result[0].keys())"
   ]
  },
  {
   "cell_type": "code",
   "execution_count": 6,
   "metadata": {},
   "outputs": [
    {
     "name": "stdout",
     "output_type": "stream",
     "text": [
      "3674\n",
      "3674\n"
     ]
    }
   ],
   "source": [
    "from preprocess import iterate_law_recursive\n",
    "import re\n",
    "\n",
    "i = 0\n",
    "for item in iterate_law_recursive(data):\n",
    "    i += 1\n",
    "print(i)\n",
    "print(len(result))"
   ]
  },
  {
   "cell_type": "code",
   "execution_count": null,
   "metadata": {},
   "outputs": [],
   "source": [
    "from preprocess import iterate_law_recursive, get_law_text\n",
    "import re\n",
    "\n",
    "i = 0\n",
    "for item in iterate_law_recursive(data):\n",
    "    \n",
    "    law_text = get_law_text(item)\n",
    "\n",
    "    result[i]['metadata']['index'] = {\n",
    "        'law_name': item['law'],\n",
    "        'part': item['part'][0],\n",
    "        'chapter': item['chapter'][0],\n",
    "        'section': item['section'][0],\n",
    "        'subsection': item['subsection'][0],\n",
    "        'article': item['article'][0],\n",
    "        'item': item['item'][0],\n",
    "    }\n",
    "    result[i] = {\n",
    "        'law_text': law_text,\n",
    "        'law_summary': result[i]['law_summary'],\n",
    "        'metadata': result[i]['metadata'],\n",
    "        'qas': result[i]['qas'],\n",
    "    }\n",
    "    i += 1"
   ]
  },
  {
   "cell_type": "code",
   "execution_count": 8,
   "metadata": {},
   "outputs": [],
   "source": [
    "with open(result_path, 'w', encoding='utf-8') as f:\n",
    "    json.dump(result, f, ensure_ascii=False, indent=4)"
   ]
  },
  {
   "cell_type": "markdown",
   "metadata": {},
   "source": [
    "# Add full article"
   ]
  },
  {
   "cell_type": "code",
   "execution_count": null,
   "metadata": {},
   "outputs": [
    {
     "name": "stdout",
     "output_type": "stream",
     "text": [
      "dict_keys(['law_name', 'metadata', 'chapters'])\n"
     ]
    }
   ],
   "source": [
    "import json\n",
    "\n",
    "# file_path = 'HienPhap/hien-phap-2013.json'\n",
    "# file_path = 'LuatLaoDong/bo-luat-lao-dong-2019.json'\n",
    "# file_path = 'LuatDanSu/bo-luat-dan-su-2015.json'\n",
    "# file_path = 'LuatHinhSu/bo-luat-hinh-su-2015.json'\n",
    "# file_path = 'LuatLaoDong/van-ban-hop-nhat-19.json'\n",
    "file_path = 'LuatHinhSu/van-ban-hop-nhat-01.json'\n",
    "with open(file_path, 'r') as f:\n",
    "    data = json.load(f)\n",
    "print(data.keys())"
   ]
  },
  {
   "cell_type": "code",
   "execution_count": null,
   "metadata": {},
   "outputs": [
    {
     "name": "stdout",
     "output_type": "stream",
     "text": [
      "dict_keys(['full_law', 'law_text', 'law_summary', 'metadata', 'qas'])\n"
     ]
    }
   ],
   "source": [
    "# result_path = 'hien-phap-0-306.json'\n",
    "# result_path = 'lao-dong-0-911.json'\n",
    "# result_path = 'dan-su-0-1923.json'\n",
    "# result_path = 'hinh-su-0-3741.json'\n",
    "# result_path = 'van-ban-hop-nhat-19-0-597.json'\n",
    "result_path = 'van-ban-hop-nhat-01-0-3673.json'\n",
    "with open(result_path, 'r') as f:\n",
    "    result = json.load(f)\n",
    "print(result[0].keys())"
   ]
  },
  {
   "cell_type": "code",
   "execution_count": 4,
   "metadata": {},
   "outputs": [
    {
     "name": "stdout",
     "output_type": "stream",
     "text": [
      "912\n",
      "912\n"
     ]
    }
   ],
   "source": [
    "from preprocess import iterate_law_recursive\n",
    "import re\n",
    "\n",
    "i = 0\n",
    "for item in iterate_law_recursive(data):\n",
    "    i += 1\n",
    "print(i)\n",
    "print(len(result))"
   ]
  },
  {
   "cell_type": "code",
   "execution_count": 7,
   "metadata": {},
   "outputs": [],
   "source": [
    "def append_new_from_str2(str1, str2):\n",
    "    str1 = str1.splitlines()\n",
    "    str2 = str2.splitlines()\n",
    "    \n",
    "    for i, item in enumerate(str2):\n",
    "        if item not in str1:\n",
    "            # Từ phần tử này đến cuối, append vào a\n",
    "            str1.extend(str2[i:])\n",
    "            break\n",
    "    return '\\n'.join(str1)\n",
    "\n",
    "current_law_text = ''\n",
    "current_index_article = -1\n",
    "num_item_in_article = 0\n",
    "list_article = []\n",
    "for item in iterate_law_recursive(data):\n",
    "    law_text = get_law_text(item)\n",
    "    if item['article'][0] == current_index_article:\n",
    "        current_law_text = append_new_from_str2(current_law_text, law_text)\n",
    "        num_item_in_article += 1\n",
    "    else:\n",
    "        if num_item_in_article:\n",
    "            # list_article += [get_only_article_content(current_law_text)] * num_item_in_article\n",
    "            list_article += [current_law_text] * num_item_in_article\n",
    "        current_index_article = item['article'][0]\n",
    "        current_law_text = law_text\n",
    "        num_item_in_article = 1\n",
    "list_article += [current_law_text] * num_item_in_article"
   ]
  },
  {
   "cell_type": "code",
   "execution_count": null,
   "metadata": {},
   "outputs": [],
   "source": [
    "# with open('test.json', 'w', encoding='utf-8') as f:\n",
    "#     json.dump(list_article, f, ensure_ascii=False, indent=4)"
   ]
  },
  {
   "cell_type": "code",
   "execution_count": null,
   "metadata": {},
   "outputs": [
    {
     "name": "stdout",
     "output_type": "stream",
     "text": [
      "length\n",
      "1939.4077299945563\n",
      "144\n",
      "11061\n",
      "852 3674\n",
      "num_words\n",
      "418.6861731083288\n",
      "31\n",
      "2379\n"
     ]
    }
   ],
   "source": [
    "# import numpy as np\n",
    "\n",
    "# length = []\n",
    "# num_words = []\n",
    "# num_length_greater_than_512 = 0\n",
    "# for article in list_article:\n",
    "#     length.append(len(article))\n",
    "#     num_words.append(len(article.split()))\n",
    "#     if num_words[-1] > 512:\n",
    "#         num_length_greater_than_512 += 1\n",
    "\n",
    "# print(\"length\")\n",
    "# print(np.average(length))\n",
    "# print(np.min(length))\n",
    "# print(np.max(length))\n",
    "# print(num_length_greater_than_512, len(list_article))\n",
    "# print(\"num_words\")\n",
    "# print(np.average(num_words))\n",
    "# print(np.min(num_words))\n",
    "# print(np.max(num_words))"
   ]
  },
  {
   "cell_type": "code",
   "execution_count": 30,
   "metadata": {},
   "outputs": [],
   "source": [
    "for i in range(len(result)):\n",
    "    result[i] = {\n",
    "        'full_law': list_article[i],\n",
    "        # 'law_text': get_only_article_content(result[i]['law_text']),\n",
    "        'law_text': result[i]['law_text'],\n",
    "        'law_summary': result[i]['law_summary'],\n",
    "        'metadata': result[i]['metadata'],\n",
    "        'qas': result[i]['qas'],\n",
    "    }"
   ]
  },
  {
   "cell_type": "code",
   "execution_count": 31,
   "metadata": {},
   "outputs": [],
   "source": [
    "with open(result_path, 'w', encoding='utf-8') as f:\n",
    "    json.dump(result, f, ensure_ascii=False, indent=4)"
   ]
  },
  {
   "cell_type": "markdown",
   "metadata": {},
   "source": [
    "# Export csv"
   ]
  },
  {
   "cell_type": "code",
   "execution_count": 40,
   "metadata": {},
   "outputs": [],
   "source": [
    "import json\n",
    "import csv\n",
    "import re\n",
    "\n",
    "def get_only_article_content(law_text):\n",
    "    try:\n",
    "        match = re.search(r'\\n(Đi.{1,2}u\\s+\\d+.*)', law_text, re.DOTALL)\n",
    "        return match.group(1)\n",
    "    except Exception as e:\n",
    "        print(law_text)\n",
    "        print(e)\n",
    "\n",
    "def process_json_to_csv(json_path, questions_path, corpus_path, qnc_path, law_code='hs'):\n",
    "    with open(json_path, 'r', encoding='utf-8') as f:\n",
    "        data = json.load(f)\n",
    "\n",
    "    question_rows = []\n",
    "    corpus_rows = []\n",
    "    qnc_rows = []\n",
    "\n",
    "    question_counter = 1\n",
    "    corpus_counter = 1\n",
    "\n",
    "    corpus_map = {}  # để tránh trùng lặp nội dung corpus\n",
    "\n",
    "    for entry in data:\n",
    "        # --- xử lý corpus ---\n",
    "        full_law = get_only_article_content(entry.get('full_law', '').strip())\n",
    "        law_text = get_only_article_content(entry.get('law_text', '').strip())\n",
    "        law_summary = entry.get('law_summary', '').strip()\n",
    "\n",
    "        # helper để thêm content và sinh id nếu chưa có\n",
    "        def add_corpus(content):\n",
    "            nonlocal corpus_counter\n",
    "            if content and content not in corpus_map:\n",
    "                cid = f'{law_code}c{corpus_counter:06d}'\n",
    "                corpus_rows.append([cid, content])\n",
    "                corpus_map[content] = cid\n",
    "                corpus_counter += 1\n",
    "            return corpus_map.get(content)\n",
    "\n",
    "        # add unique corpus content\n",
    "        cid_text = add_corpus(law_text)\n",
    "        cid_summary = add_corpus(law_summary)\n",
    "        if full_law and full_law != law_text:\n",
    "            cid_full = add_corpus(full_law)\n",
    "        else:\n",
    "            cid_full = None\n",
    "\n",
    "        # --- xử lý câu hỏi ---\n",
    "        for qa in entry.get('qas', []):\n",
    "            qid = f'{law_code}q{question_counter:06d}'\n",
    "            question_rows.append([qid, qa['question'].strip()])\n",
    "            question_counter += 1\n",
    "\n",
    "            # nối câu hỏi với các corpus id tương ứng\n",
    "            if cid_text:\n",
    "                qnc_rows.append([qid, cid_text])\n",
    "            if cid_summary:\n",
    "                qnc_rows.append([qid, cid_summary])\n",
    "            if cid_full:\n",
    "                qnc_rows.append([qid, cid_full])\n",
    "\n",
    "    # Ghi ra 3 file csv\n",
    "    with open(questions_path, 'w', encoding='utf-8', newline='') as f:\n",
    "        writer = csv.writer(f)\n",
    "        writer.writerow(['question_id', 'question'])\n",
    "        writer.writerows(question_rows)\n",
    "\n",
    "    with open(corpus_path, 'w', encoding='utf-8', newline='') as f:\n",
    "        writer = csv.writer(f)\n",
    "        writer.writerow(['corpus_id', 'content'])\n",
    "        writer.writerows(corpus_rows)\n",
    "\n",
    "    with open(qnc_path, 'w', encoding='utf-8', newline='') as f:\n",
    "        writer = csv.writer(f)\n",
    "        writer.writerow(['question_id', 'corpus_id'])\n",
    "        writer.writerows(qnc_rows)"
   ]
  },
  {
   "cell_type": "code",
   "execution_count": 51,
   "metadata": {},
   "outputs": [],
   "source": [
    "# Ví dụ sử dụng\n",
    "process_json_to_csv(\n",
    "    json_path='hinh-su-sua-doi-0-3673.json',\n",
    "    questions_path='hinh-su-questions.csv',\n",
    "    corpus_path='hinh-su-corpus.csv',\n",
    "    qnc_path='hinh-su-qnc.csv',\n",
    "    law_code='hs'\n",
    ")"
   ]
  },
  {
   "cell_type": "code",
   "execution_count": 6,
   "metadata": {},
   "outputs": [
    {
     "data": {
      "text/plain": [
       "'BỘ LUẬT DÂN SỰ\\nPhần thứ nhất QUY ĐỊNH CHUNG\\nChương I NHỮNG QUY ĐỊNH CHUNG\\nĐiều 1 Phạm vi điều chỉnh\\nBộ luật này quy định địa vị pháp lý, chuẩn mực pháp lý về cách ứng xử của cá nhân, pháp nhân; quyền, nghĩa vụ về nhân thân và tài sản của cá nhân, pháp nhân trong các quan hệ được hình thành trên cơ sở bình đẳng, tự do ý chí, độc lập về tài sản và tự chịu trách nhiệm (sau đây gọi chung là quan hệ dân sự).'"
      ]
     },
     "execution_count": 6,
     "metadata": {},
     "output_type": "execute_result"
    }
   ],
   "source": [
    "import pandas as pd\n",
    "\n",
    "df = pd.read_csv('dan-su-corpus.csv')\n",
    "df['content'][0]"
   ]
  },
  {
   "cell_type": "markdown",
   "metadata": {},
   "source": [
    "# Get all docs"
   ]
  },
  {
   "cell_type": "code",
   "execution_count": 2,
   "metadata": {},
   "outputs": [],
   "source": [
    "law_mapping = {\n",
    "    \"HIẾN PHÁP NƯỚC CỘNG HÒA XÃ HỘI CHỦ NGHĨA VIỆT NAM\": \"Hiến pháp 2013\",\n",
    "    \"BỘ LUẬT DÂN SỰ\": \"Bộ luật dân sự 2015\",\n",
    "    \"LUẬT BẢO VỆ QUYỀN LỢI NGƯỜI TIÊU DÙNG\": \"Luật Bảo vệ quyền lợi người tiêu dùng 2023\",\n",
    "    \"LUẬT HÔN NHÂN VÀ GIA ĐÌNH\": \"Luật Hôn nhân và gia đình 2014\",\n",
    "    \"BỘ LUẬT HÌNH SỰ\": \"Bộ luật Hình sự sửa đổi 2017\",\n",
    "    \"BỘ LUẬT LAO ĐỘNG\": \"Bộ luật Lao động 2019\",\n",
    "    \"LUẬT AN TOÀN, VỆ SINH LAO ĐỘNG\": \"Luật an toàn, vệ sinh lao động 2015\",\n",
    "    \"LUẬT CÔNG ĐOÀN\": \"Luật Công đoàn 2012\",\n",
    "    \"LUẬT VIỆC LÀM\": \"Luật việc làm 2013\",\n",
    "    \"LUẬT BẢO HIỂM XÃ HỘI\": \"Luật Bảo hiểm xã hội sửa đổi 2019\"\n",
    "}"
   ]
  },
  {
   "cell_type": "code",
   "execution_count": 3,
   "metadata": {},
   "outputs": [
    {
     "name": "stdout",
     "output_type": "stream",
     "text": [
      "HienPhap/hien-phap-2013.json\n",
      "hien-phap-0-306.json\n",
      "LuatDanSu/bo-luat-dan-su-2015.json\n",
      "dan-su-0-1923.json\n",
      "LuatDanSu/luat-bao-ve-quyen-loi-nguoi-tieu-dung-2023.json\n",
      "luat-bao-ve-quyen-loi-nguoi-tieu-dung-2023-0-511.json\n",
      "LuatDanSu/luat-hon-nhan-va-gia-dinh-2014.json\n",
      "luat-hon-nhan-va-gia-dinh-2014-0-402.json\n",
      "LuatHinhSu/van-ban-hop-nhat-01.json\n",
      "hinh-su-sua-doi-0-3673.json\n",
      "LuatLaoDong/bo-luat-lao-dong-2019.json\n",
      "lao-dong-0-911.json\n",
      "LuatLaoDong/luat-an-toan-ve-sinh-lao-dong-2015.json\n",
      "luat-an-toan-ve-sinh-lao-dong-2015-0-519.json\n",
      "LuatLaoDong/luat-cong-doan-2012.json\n",
      "luat-cong-doan-2012-0-120.json\n",
      "LuatLaoDong/luat-viec-lam-2013.json\n",
      "luat-viec-lam-2013-0-255.json\n",
      "LuatLaoDong/van-ban-hop-nhat-19.json\n",
      "luat-bao-hiem-xa-hoi-0-597.json\n"
     ]
    }
   ],
   "source": [
    "from preprocess import iterate_law_recursive, get_law_text\n",
    "import json\n",
    "\n",
    "def append_new_from_str2(str1, str2):\n",
    "    str1 = str1.splitlines()\n",
    "    str2 = str2.splitlines()\n",
    "    \n",
    "    for i, item in enumerate(str2):\n",
    "        if item not in str1:\n",
    "            # Từ phần tử này đến cuối, append vào a\n",
    "            str1.extend(str2[i:])\n",
    "            break\n",
    "    return '\\n'.join(str1)\n",
    "\n",
    "file_path = [\n",
    "    'HienPhap/hien-phap-2013.json',\n",
    "    'LuatDanSu/bo-luat-dan-su-2015.json',\n",
    "    'LuatDanSu/luat-bao-ve-quyen-loi-nguoi-tieu-dung-2023.json',\n",
    "    'LuatDanSu/luat-hon-nhan-va-gia-dinh-2014.json',\n",
    "    'LuatHinhSu/van-ban-hop-nhat-01.json',\n",
    "    'LuatLaoDong/bo-luat-lao-dong-2019.json',\n",
    "    'LuatLaoDong/luat-an-toan-ve-sinh-lao-dong-2015.json',\n",
    "    'LuatLaoDong/luat-cong-doan-2012.json',\n",
    "    'LuatLaoDong/luat-viec-lam-2013.json',\n",
    "    'LuatLaoDong/van-ban-hop-nhat-19.json'\n",
    "]\n",
    "result_path = [\n",
    "    'hien-phap-0-306.json',\n",
    "    'dan-su-0-1923.json',\n",
    "    'luat-bao-ve-quyen-loi-nguoi-tieu-dung-2023-0-511.json',\n",
    "    'luat-hon-nhan-va-gia-dinh-2014-0-402.json',\n",
    "    'hinh-su-sua-doi-0-3673.json',\n",
    "    'lao-dong-0-911.json',\n",
    "    'luat-an-toan-ve-sinh-lao-dong-2015-0-519.json',\n",
    "    'luat-cong-doan-2012-0-120.json',\n",
    "    'luat-viec-lam-2013-0-255.json',\n",
    "    'luat-bao-hiem-xa-hoi-0-597.json'\n",
    "]\n",
    "\n",
    "all_docs = []\n",
    "for f, r in zip(file_path, result_path):\n",
    "    print(f)\n",
    "    print(r)\n",
    "    with open(f, 'r') as f:\n",
    "        data = json.load(f)\n",
    "    with open(r, 'r') as f:\n",
    "        result = json.load(f)\n",
    "\n",
    "    current_law_text = ''\n",
    "    current_index_article = -1\n",
    "    num_item_in_article = 0\n",
    "    list_article = []\n",
    "    for item in iterate_law_recursive(data):\n",
    "        law_text = get_law_text(item, law_mapping)\n",
    "        if item['article'][0] == current_index_article:\n",
    "            current_law_text = append_new_from_str2(current_law_text, law_text)\n",
    "            num_item_in_article += 1\n",
    "        else:\n",
    "            if num_item_in_article:\n",
    "                # list_article += [get_only_article_content(current_law_text)] * num_item_in_article\n",
    "                list_article += [current_law_text]\n",
    "            current_index_article = item['article'][0]\n",
    "            current_law_text = law_text\n",
    "            num_item_in_article = 1\n",
    "    list_article += [current_law_text]\n",
    "    all_docs += list_article"
   ]
  },
  {
   "cell_type": "code",
   "execution_count": 4,
   "metadata": {},
   "outputs": [
    {
     "data": {
      "text/plain": [
       "1979"
      ]
     },
     "execution_count": 4,
     "metadata": {},
     "output_type": "execute_result"
    }
   ],
   "source": [
    "len(all_docs)"
   ]
  },
  {
   "cell_type": "code",
   "execution_count": 5,
   "metadata": {},
   "outputs": [],
   "source": [
    "with open('all_docs.json', 'w', encoding='utf-8') as f:\n",
    "    json.dump(all_docs, f, ensure_ascii=False, indent=4)"
   ]
  },
  {
   "cell_type": "code",
   "execution_count": 18,
   "metadata": {},
   "outputs": [
    {
     "data": {
      "text/plain": [
       "'LUẬT HÔN NHÂN VÀ GIA ĐÌNH\\nChương IV CHẤM DỨT HÔN NHÂN\\nMục 1 LY HÔN\\nĐiều 59 Nguyên tắc giải quyết tài sản của vợ chồng khi ly hôn\\nTrong trường hợp chế độ tài sản của vợ chồng theo luật định thì việc giải quyết tài sản do các bên thỏa thuận; nếu không thỏa thuận được thì theo yêu cầu của vợ, chồng hoặc của hai vợ chồng, Tòa án giải quyết theo quy định tại các khoản 2, 3, 4 và 5 Điều này và tại các điều 60, 61, 62, 63 và 64 của Luật này. Trong trường hợp chế độ tài sản của vợ chồng theo thỏa thuận thì việc giải quyết tài sản khi ly hôn được áp dụng theo thỏa thuận đó; nếu thỏa thuận không đầy đủ, rõ ràng thì áp dụng quy định tương ứng tại các khoản 2, 3, 4 và 5 Điều này và tại các điều 60, 61, 62, 63 và 64 của Luật này để giải quyết.\\nTài sản chung của vợ chồng được chia đôi nhưng có tính đến các yếu tố sau đây:\\nHoàn cảnh của gia đình và của vợ, chồng;\\nCông sức đóng góp của vợ, chồng vào việc tạo lập, duy trì và phát triển khối tài sản chung. Lao động của vợ, chồng trong gia đình được coi như lao động có thu nhập;\\nBảo vệ lợi ích chính đáng của mỗi bên trong sản xuất, kinh doanh và nghề nghiệp để các bên có điều kiện tiếp tục lao động tạo thu nhập;\\nLỗi của mỗi bên trong vi phạm quyền, nghĩa vụ của vợ chồng.\\nTài sản chung của vợ chồng được chia bằng hiện vật, nếu không chia được bằng hiện vật thì chia theo giá trị; bên nào nhận phần tài sản bằng hiện vật có giá trị lớn hơn phần mình được hưởng thì phải thanh toán cho bên kia phần chênh lệch.\\nTài sản riêng của vợ, chồng thuộc quyền sở hữu của người đó, trừ trường hợp tài sản riêng đã nhập vào tài sản chung theo quy định của Luật này. Trong trường hợp có sự sáp nhập, trộn lẫn giữa tài sản riêng với tài sản chung mà vợ, chồng có yêu cầu về chia tài sản thì được thanh toán phần giá trị tài sản của mình đóng góp vào khối tài sản đó, trừ trường hợp vợ chồng có thỏa thuận khác.\\nBảo vệ quyền, lợi ích hợp pháp của vợ, con chưa thành niên, con đã thành niên mất năng lực hành vi dân sự hoặc không có khả năng lao động và không có tài sản để tự nuôi mình.\\nTòa án nhân dân tối cao chủ trì phối hợp với Viện kiểm sát nhân dân tối cao và Bộ Tư pháp hướng dẫn Điều này.'"
      ]
     },
     "execution_count": 18,
     "metadata": {},
     "output_type": "execute_result"
    }
   ],
   "source": [
    "all_docs[945]"
   ]
  }
 ],
 "metadata": {
  "kernelspec": {
   "display_name": "doan",
   "language": "python",
   "name": "python3"
  },
  "language_info": {
   "codemirror_mode": {
    "name": "ipython",
    "version": 3
   },
   "file_extension": ".py",
   "mimetype": "text/x-python",
   "name": "python",
   "nbconvert_exporter": "python",
   "pygments_lexer": "ipython3",
   "version": "3.11.11"
  }
 },
 "nbformat": 4,
 "nbformat_minor": 2
}
